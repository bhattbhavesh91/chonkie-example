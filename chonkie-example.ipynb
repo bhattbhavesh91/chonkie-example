{
  "nbformat": 4,
  "nbformat_minor": 0,
  "metadata": {
    "colab": {
      "provenance": []
    },
    "kernelspec": {
      "name": "python3",
      "display_name": "Python 3"
    },
    "language_info": {
      "name": "python"
    },
    "widgets": {
      "application/vnd.jupyter.widget-state+json": {
        "52eb67ba7154448bb90d6a992ebb315f": {
          "model_module": "@jupyter-widgets/controls",
          "model_name": "HBoxModel",
          "model_module_version": "1.5.0",
          "state": {
            "_dom_classes": [],
            "_model_module": "@jupyter-widgets/controls",
            "_model_module_version": "1.5.0",
            "_model_name": "HBoxModel",
            "_view_count": null,
            "_view_module": "@jupyter-widgets/controls",
            "_view_module_version": "1.5.0",
            "_view_name": "HBoxView",
            "box_style": "",
            "children": [
              "IPY_MODEL_fe62d802211c4a4ca1b7ef713a58851c",
              "IPY_MODEL_1cee138c1d8b45399f3bf7d01f5eab2d",
              "IPY_MODEL_b1d7e5833eb64566b588acde4a32c59e"
            ],
            "layout": "IPY_MODEL_7f65dc3ac88e4072a48ad7e048b869cb"
          }
        },
        "fe62d802211c4a4ca1b7ef713a58851c": {
          "model_module": "@jupyter-widgets/controls",
          "model_name": "HTMLModel",
          "model_module_version": "1.5.0",
          "state": {
            "_dom_classes": [],
            "_model_module": "@jupyter-widgets/controls",
            "_model_module_version": "1.5.0",
            "_model_name": "HTMLModel",
            "_view_count": null,
            "_view_module": "@jupyter-widgets/controls",
            "_view_module_version": "1.5.0",
            "_view_name": "HTMLView",
            "description": "",
            "description_tooltip": null,
            "layout": "IPY_MODEL_32972f7de6cf47409eda74954987e292",
            "placeholder": "​",
            "style": "IPY_MODEL_a256aaf0199d45409fe65dbb27bfc823",
            "value": "tokenizer.json: 100%"
          }
        },
        "1cee138c1d8b45399f3bf7d01f5eab2d": {
          "model_module": "@jupyter-widgets/controls",
          "model_name": "FloatProgressModel",
          "model_module_version": "1.5.0",
          "state": {
            "_dom_classes": [],
            "_model_module": "@jupyter-widgets/controls",
            "_model_module_version": "1.5.0",
            "_model_name": "FloatProgressModel",
            "_view_count": null,
            "_view_module": "@jupyter-widgets/controls",
            "_view_module_version": "1.5.0",
            "_view_name": "ProgressView",
            "bar_style": "success",
            "description": "",
            "description_tooltip": null,
            "layout": "IPY_MODEL_22a9b03de6c84bb49e10e17f75698a5d",
            "max": 1355256,
            "min": 0,
            "orientation": "horizontal",
            "style": "IPY_MODEL_9b58de86b33f4bf7b15e5caadfdece5b",
            "value": 1355256
          }
        },
        "b1d7e5833eb64566b588acde4a32c59e": {
          "model_module": "@jupyter-widgets/controls",
          "model_name": "HTMLModel",
          "model_module_version": "1.5.0",
          "state": {
            "_dom_classes": [],
            "_model_module": "@jupyter-widgets/controls",
            "_model_module_version": "1.5.0",
            "_model_name": "HTMLModel",
            "_view_count": null,
            "_view_module": "@jupyter-widgets/controls",
            "_view_module_version": "1.5.0",
            "_view_name": "HTMLView",
            "description": "",
            "description_tooltip": null,
            "layout": "IPY_MODEL_cda82ac8109a4e02ac8239bc26186398",
            "placeholder": "​",
            "style": "IPY_MODEL_1cc1bf22c40f4ef9bb39889bb663369a",
            "value": " 1.36M/1.36M [00:00&lt;00:00, 15.5MB/s]"
          }
        },
        "7f65dc3ac88e4072a48ad7e048b869cb": {
          "model_module": "@jupyter-widgets/base",
          "model_name": "LayoutModel",
          "model_module_version": "1.2.0",
          "state": {
            "_model_module": "@jupyter-widgets/base",
            "_model_module_version": "1.2.0",
            "_model_name": "LayoutModel",
            "_view_count": null,
            "_view_module": "@jupyter-widgets/base",
            "_view_module_version": "1.2.0",
            "_view_name": "LayoutView",
            "align_content": null,
            "align_items": null,
            "align_self": null,
            "border": null,
            "bottom": null,
            "display": null,
            "flex": null,
            "flex_flow": null,
            "grid_area": null,
            "grid_auto_columns": null,
            "grid_auto_flow": null,
            "grid_auto_rows": null,
            "grid_column": null,
            "grid_gap": null,
            "grid_row": null,
            "grid_template_areas": null,
            "grid_template_columns": null,
            "grid_template_rows": null,
            "height": null,
            "justify_content": null,
            "justify_items": null,
            "left": null,
            "margin": null,
            "max_height": null,
            "max_width": null,
            "min_height": null,
            "min_width": null,
            "object_fit": null,
            "object_position": null,
            "order": null,
            "overflow": null,
            "overflow_x": null,
            "overflow_y": null,
            "padding": null,
            "right": null,
            "top": null,
            "visibility": null,
            "width": null
          }
        },
        "32972f7de6cf47409eda74954987e292": {
          "model_module": "@jupyter-widgets/base",
          "model_name": "LayoutModel",
          "model_module_version": "1.2.0",
          "state": {
            "_model_module": "@jupyter-widgets/base",
            "_model_module_version": "1.2.0",
            "_model_name": "LayoutModel",
            "_view_count": null,
            "_view_module": "@jupyter-widgets/base",
            "_view_module_version": "1.2.0",
            "_view_name": "LayoutView",
            "align_content": null,
            "align_items": null,
            "align_self": null,
            "border": null,
            "bottom": null,
            "display": null,
            "flex": null,
            "flex_flow": null,
            "grid_area": null,
            "grid_auto_columns": null,
            "grid_auto_flow": null,
            "grid_auto_rows": null,
            "grid_column": null,
            "grid_gap": null,
            "grid_row": null,
            "grid_template_areas": null,
            "grid_template_columns": null,
            "grid_template_rows": null,
            "height": null,
            "justify_content": null,
            "justify_items": null,
            "left": null,
            "margin": null,
            "max_height": null,
            "max_width": null,
            "min_height": null,
            "min_width": null,
            "object_fit": null,
            "object_position": null,
            "order": null,
            "overflow": null,
            "overflow_x": null,
            "overflow_y": null,
            "padding": null,
            "right": null,
            "top": null,
            "visibility": null,
            "width": null
          }
        },
        "a256aaf0199d45409fe65dbb27bfc823": {
          "model_module": "@jupyter-widgets/controls",
          "model_name": "DescriptionStyleModel",
          "model_module_version": "1.5.0",
          "state": {
            "_model_module": "@jupyter-widgets/controls",
            "_model_module_version": "1.5.0",
            "_model_name": "DescriptionStyleModel",
            "_view_count": null,
            "_view_module": "@jupyter-widgets/base",
            "_view_module_version": "1.2.0",
            "_view_name": "StyleView",
            "description_width": ""
          }
        },
        "22a9b03de6c84bb49e10e17f75698a5d": {
          "model_module": "@jupyter-widgets/base",
          "model_name": "LayoutModel",
          "model_module_version": "1.2.0",
          "state": {
            "_model_module": "@jupyter-widgets/base",
            "_model_module_version": "1.2.0",
            "_model_name": "LayoutModel",
            "_view_count": null,
            "_view_module": "@jupyter-widgets/base",
            "_view_module_version": "1.2.0",
            "_view_name": "LayoutView",
            "align_content": null,
            "align_items": null,
            "align_self": null,
            "border": null,
            "bottom": null,
            "display": null,
            "flex": null,
            "flex_flow": null,
            "grid_area": null,
            "grid_auto_columns": null,
            "grid_auto_flow": null,
            "grid_auto_rows": null,
            "grid_column": null,
            "grid_gap": null,
            "grid_row": null,
            "grid_template_areas": null,
            "grid_template_columns": null,
            "grid_template_rows": null,
            "height": null,
            "justify_content": null,
            "justify_items": null,
            "left": null,
            "margin": null,
            "max_height": null,
            "max_width": null,
            "min_height": null,
            "min_width": null,
            "object_fit": null,
            "object_position": null,
            "order": null,
            "overflow": null,
            "overflow_x": null,
            "overflow_y": null,
            "padding": null,
            "right": null,
            "top": null,
            "visibility": null,
            "width": null
          }
        },
        "9b58de86b33f4bf7b15e5caadfdece5b": {
          "model_module": "@jupyter-widgets/controls",
          "model_name": "ProgressStyleModel",
          "model_module_version": "1.5.0",
          "state": {
            "_model_module": "@jupyter-widgets/controls",
            "_model_module_version": "1.5.0",
            "_model_name": "ProgressStyleModel",
            "_view_count": null,
            "_view_module": "@jupyter-widgets/base",
            "_view_module_version": "1.2.0",
            "_view_name": "StyleView",
            "bar_color": null,
            "description_width": ""
          }
        },
        "cda82ac8109a4e02ac8239bc26186398": {
          "model_module": "@jupyter-widgets/base",
          "model_name": "LayoutModel",
          "model_module_version": "1.2.0",
          "state": {
            "_model_module": "@jupyter-widgets/base",
            "_model_module_version": "1.2.0",
            "_model_name": "LayoutModel",
            "_view_count": null,
            "_view_module": "@jupyter-widgets/base",
            "_view_module_version": "1.2.0",
            "_view_name": "LayoutView",
            "align_content": null,
            "align_items": null,
            "align_self": null,
            "border": null,
            "bottom": null,
            "display": null,
            "flex": null,
            "flex_flow": null,
            "grid_area": null,
            "grid_auto_columns": null,
            "grid_auto_flow": null,
            "grid_auto_rows": null,
            "grid_column": null,
            "grid_gap": null,
            "grid_row": null,
            "grid_template_areas": null,
            "grid_template_columns": null,
            "grid_template_rows": null,
            "height": null,
            "justify_content": null,
            "justify_items": null,
            "left": null,
            "margin": null,
            "max_height": null,
            "max_width": null,
            "min_height": null,
            "min_width": null,
            "object_fit": null,
            "object_position": null,
            "order": null,
            "overflow": null,
            "overflow_x": null,
            "overflow_y": null,
            "padding": null,
            "right": null,
            "top": null,
            "visibility": null,
            "width": null
          }
        },
        "1cc1bf22c40f4ef9bb39889bb663369a": {
          "model_module": "@jupyter-widgets/controls",
          "model_name": "DescriptionStyleModel",
          "model_module_version": "1.5.0",
          "state": {
            "_model_module": "@jupyter-widgets/controls",
            "_model_module_version": "1.5.0",
            "_model_name": "DescriptionStyleModel",
            "_view_count": null,
            "_view_module": "@jupyter-widgets/base",
            "_view_module_version": "1.2.0",
            "_view_name": "StyleView",
            "description_width": ""
          }
        }
      }
    }
  },
  "cells": [
    {
      "cell_type": "code",
      "execution_count": 1,
      "metadata": {
        "id": "fxD2srHiQyPz"
      },
      "outputs": [],
      "source": [
        "data = \"\"\"\n",
        "# Virat Kohli - Centuries\n",
        "\n",
        "Virat Kohli is one of the most successful and consistent batsmen in modern-day cricket. Below is a table summarizing his centuries in international cricket (as of March 2025).\n",
        "\n",
        "## List of Virat Kohli's Centuries\n",
        "\n",
        "| **No.** | **Format**    | **Opponent**    | **Match Date** | **Venue**           | **Score** |\n",
        "|---------|---------------|-----------------|----------------|---------------------|-----------|\n",
        "| 1       | ODI           | Sri Lanka       | 2013-07-21     | Colombo             | 102*      |\n",
        "| 2       | Test          | Australia       | 2014-12-17     | Adelaide            | 115       |\n",
        "| 3       | ODI           | West Indies     | 2014-10-11     | North Sound         | 100       |\n",
        "| 4       | ODI           | Sri Lanka       | 2014-11-01     | Ranchi              | 139       |\n",
        "| 5       | ODI           | South Africa    | 2015-10-14     | Kanpur              | 138       |\n",
        "| 6       | Test          | Sri Lanka       | 2017-07-29     | Galle               | 103       |\n",
        "| 7       | ODI           | New Zealand     | 2017-10-22     | Pune                | 121       |\n",
        "| 8       | Test          | Bangladesh      | 2017-02-09     | Hyderabad           | 204       |\n",
        "| 9       | ODI           | Sri Lanka       | 2017-08-21     | Colombo             | 103*      |\n",
        "| 10      | ODI           | Australia       | 2019-03-10     | Ranchi              | 116       |\n",
        "| 11      | ODI           | West Indies     | 2019-08-14     | Port of Spain       | 114       |\n",
        "| 12      | Test          | Australia       | 2018-12-06     | Adelaide            | 123       |\n",
        "| 13      | T20I          | Sri Lanka       | 2016-03-22     | Mohali              | 82*       |\n",
        "| 14      | Test          | West Indies     | 2019-08-30     | Kingston            | 114       |\n",
        "| 15      | ODI           | South Africa    | 2018-02-14     | Johannesburg        | 160       |\n",
        "\n",
        "This table highlights some of the notable centuries scored by Virat Kohli. He has been an exceptional performer across all formats, cementing his place as one of cricket's all-time greats.\n",
        "\"\"\""
      ]
    },
    {
      "cell_type": "code",
      "source": [
        "!pip install -q chonkie tiktoken"
      ],
      "metadata": {
        "colab": {
          "base_uri": "https://localhost:8080/"
        },
        "id": "ov5_JOU2RRjk",
        "outputId": "e338d111-b307-4914-a0a2-a924eb67ee03"
      },
      "execution_count": 2,
      "outputs": [
        {
          "output_type": "stream",
          "name": "stdout",
          "text": [
            "\u001b[?25l   \u001b[90m━━━━━━━━━━━━━━━━━━━━━━━━━━━━━━━━━━━━━━━━\u001b[0m \u001b[32m0.0/62.7 kB\u001b[0m \u001b[31m?\u001b[0m eta \u001b[36m-:--:--\u001b[0m\r\u001b[2K   \u001b[90m━━━━━━━━━━━━━━━━━━━━━━━━━━━━━━━━━━━━━━━━\u001b[0m \u001b[32m62.7/62.7 kB\u001b[0m \u001b[31m3.3 MB/s\u001b[0m eta \u001b[36m0:00:00\u001b[0m\n",
            "\u001b[?25h\u001b[?25l   \u001b[90m━━━━━━━━━━━━━━━━━━━━━━━━━━━━━━━━━━━━━━━━\u001b[0m \u001b[32m0.0/1.2 MB\u001b[0m \u001b[31m?\u001b[0m eta \u001b[36m-:--:--\u001b[0m\r\u001b[2K   \u001b[91m━━━━━━━━━━━━━━━━━━━━━━━━━━━━━━━━━━━━━━━\u001b[0m\u001b[91m╸\u001b[0m \u001b[32m1.2/1.2 MB\u001b[0m \u001b[31m75.3 MB/s\u001b[0m eta \u001b[36m0:00:01\u001b[0m\r\u001b[2K   \u001b[90m━━━━━━━━━━━━━━━━━━━━━━━━━━━━━━━━━━━━━━━━\u001b[0m \u001b[32m1.2/1.2 MB\u001b[0m \u001b[31m32.3 MB/s\u001b[0m eta \u001b[36m0:00:00\u001b[0m\n",
            "\u001b[?25h"
          ]
        }
      ]
    },
    {
      "cell_type": "code",
      "source": [
        "from chonkie import RecursiveChunker, RecursiveLevel, RecursiveRules"
      ],
      "metadata": {
        "id": "NSqsoFKNRU03"
      },
      "execution_count": 3,
      "outputs": []
    },
    {
      "cell_type": "code",
      "source": [
        "rules = RecursiveRules(\n",
        "    levels=[\n",
        "        RecursiveLevel(delimiters=[\"######\", \"#####\", \"####\", \"###\", \"##\", \"#\"], include_delim=\"next\"),\n",
        "        RecursiveLevel(delimiters=[\"\\n\\n\", \"\\n\", \"\\r\\n\", \"\\r\"]),\n",
        "        RecursiveLevel(delimiters=[\"\\n|\"], include_delim=\"next\"),\n",
        "        RecursiveLevel(delimiters=\".?!;:\"),\n",
        "        RecursiveLevel(),\n",
        "    ]\n",
        ")"
      ],
      "metadata": {
        "id": "vHvQVIayRYIg"
      },
      "execution_count": 4,
      "outputs": []
    },
    {
      "cell_type": "code",
      "source": [
        "chunker = RecursiveChunker(rules=rules, chunk_size=384, return_type=\"texts\")\n",
        "# chunker = RecursiveChunker(rules=rules, chunk_size=384)"
      ],
      "metadata": {
        "id": "nEc0PPIaRhZS",
        "colab": {
          "base_uri": "https://localhost:8080/",
          "height": 138,
          "referenced_widgets": [
            "52eb67ba7154448bb90d6a992ebb315f",
            "fe62d802211c4a4ca1b7ef713a58851c",
            "1cee138c1d8b45399f3bf7d01f5eab2d",
            "b1d7e5833eb64566b588acde4a32c59e",
            "7f65dc3ac88e4072a48ad7e048b869cb",
            "32972f7de6cf47409eda74954987e292",
            "a256aaf0199d45409fe65dbb27bfc823",
            "22a9b03de6c84bb49e10e17f75698a5d",
            "9b58de86b33f4bf7b15e5caadfdece5b",
            "cda82ac8109a4e02ac8239bc26186398",
            "1cc1bf22c40f4ef9bb39889bb663369a"
          ]
        },
        "outputId": "f7142f8c-8322-40ef-d645-62e5b494f647"
      },
      "execution_count": 5,
      "outputs": [
        {
          "output_type": "stream",
          "name": "stderr",
          "text": [
            "/usr/local/lib/python3.11/dist-packages/huggingface_hub/utils/_auth.py:86: UserWarning: \n",
            "Access to the secret `HF_TOKEN` has not been granted on this notebook.\n",
            "You will not be requested again.\n",
            "Please restart the session if you want to be prompted again.\n",
            "  warnings.warn(\n"
          ]
        },
        {
          "output_type": "display_data",
          "data": {
            "text/plain": [
              "tokenizer.json:   0%|          | 0.00/1.36M [00:00<?, ?B/s]"
            ],
            "application/vnd.jupyter.widget-view+json": {
              "version_major": 2,
              "version_minor": 0,
              "model_id": "52eb67ba7154448bb90d6a992ebb315f"
            }
          },
          "metadata": {}
        }
      ]
    },
    {
      "cell_type": "code",
      "source": [
        "# This is all it takes to chunk!\n",
        "chunks = chunker(data)\n",
        "print(f\"Total number of chunks: {len(chunks)}\")"
      ],
      "metadata": {
        "colab": {
          "base_uri": "https://localhost:8080/"
        },
        "id": "FqqbIA7YRhcr",
        "outputId": "c71bbfdb-0b10-4198-afc1-520280125bd7"
      },
      "execution_count": 6,
      "outputs": [
        {
          "output_type": "stream",
          "name": "stdout",
          "text": [
            "Total number of chunks: 4\n"
          ]
        }
      ]
    },
    {
      "cell_type": "code",
      "source": [
        "# print(chunks[0].text)\n",
        "print(chunks[0])"
      ],
      "metadata": {
        "colab": {
          "base_uri": "https://localhost:8080/"
        },
        "id": "ldsHVWuiRyFW",
        "outputId": "618fd387-baee-43ba-b238-64a8d98299d3"
      },
      "execution_count": 7,
      "outputs": [
        {
          "output_type": "stream",
          "name": "stdout",
          "text": [
            "\n",
            "# Virat Kohli - Centuries\n",
            "\n",
            "Virat Kohli is one of the most successful and consistent batsmen in modern-day cricket. Below is a table summarizing his centuries in international cricket (as of March 2025).\n",
            "\n",
            "\n"
          ]
        }
      ]
    },
    {
      "cell_type": "code",
      "source": [
        "print(chunks[1])"
      ],
      "metadata": {
        "colab": {
          "base_uri": "https://localhost:8080/"
        },
        "id": "VD0we2m3R3AD",
        "outputId": "d3024e78-bcd6-47bd-888f-8629421dbef2"
      },
      "execution_count": 8,
      "outputs": [
        {
          "output_type": "stream",
          "name": "stdout",
          "text": [
            "## List of Virat Kohli's Centuries\n",
            "\n",
            "| **No.** | **Format**    | **Opponent**    | **Match Date** | **Venue**           | **Score** |\n",
            "|---------|---------------|-----------------|----------------|---------------------|-----------|\n",
            "| 1       | ODI           | Sri Lanka       | 2013-07-21     | Colombo             | 102*      |\n",
            "| 2       | Test          | Australia       | 2014-12-17     | Adelaide            | 115       |\n",
            "| 3       | ODI           | West Indies     | 2014-10-11     | North Sound         | 100       |\n",
            "| 4       | ODI           | Sri Lanka       | 2014-11-01     | Ranchi              | 139       |\n",
            "\n"
          ]
        }
      ]
    },
    {
      "cell_type": "code",
      "source": [
        "print(chunks[2])"
      ],
      "metadata": {
        "colab": {
          "base_uri": "https://localhost:8080/"
        },
        "id": "wY_TC5Z4R5wt",
        "outputId": "6a3a1c2f-0fd8-4303-d0e9-c400e36b0d2f"
      },
      "execution_count": 9,
      "outputs": [
        {
          "output_type": "stream",
          "name": "stdout",
          "text": [
            "| 5       | ODI           | South Africa    | 2015-10-14     | Kanpur              | 138       |\n",
            "| 6       | Test          | Sri Lanka       | 2017-07-29     | Galle               | 103       |\n",
            "| 7       | ODI           | New Zealand     | 2017-10-22     | Pune                | 121       |\n",
            "| 8       | Test          | Bangladesh      | 2017-02-09     | Hyderabad           | 204       |\n",
            "| 9       | ODI           | Sri Lanka       | 2017-08-21     | Colombo             | 103*      |\n",
            "| 10      | ODI           | Australia       | 2019-03-10     | Ranchi              | 116       |\n",
            "\n"
          ]
        }
      ]
    },
    {
      "cell_type": "code",
      "source": [
        "def process_chunks(chunks):\n",
        "    \"\"\"\n",
        "    Process markdown chunks to ensure table parts maintain their context.\n",
        "\n",
        "    If a chunk contains the beginning of a table (headers), this function will\n",
        "    identify the table title and headers. It will then prepend these to any\n",
        "    subsequent chunks that continue the same table but lack headers.\n",
        "\n",
        "    Args:\n",
        "        chunks (list): List of string chunks from a markdown file\n",
        "\n",
        "    Returns:\n",
        "        list: Processed chunks with table headers added where needed\n",
        "    \"\"\"\n",
        "    processed_chunks = []\n",
        "    current_table_title = None\n",
        "    current_table_headers = None\n",
        "    table_active = False\n",
        "\n",
        "    for i, chunk in enumerate(chunks):\n",
        "        # Check if this chunk contains a table\n",
        "        if \"|\" in chunk and \"|-\" in chunk:\n",
        "            # This chunk contains a table with headers\n",
        "\n",
        "            # Extract table title (could be a header or a sentence above the table)\n",
        "            lines = chunk.split('\\n')\n",
        "            title_line = None\n",
        "\n",
        "            # Look for title: either a heading or the last text line before the table\n",
        "            for j, line in enumerate(lines):\n",
        "                if line.strip() and \"|\" in line:\n",
        "                    # Found the first line of the table\n",
        "                    # The title should be the last non-empty line before this\n",
        "                    for k in range(j-1, -1, -1):\n",
        "                        if lines[k].strip() and \"|\" not in lines[k]:\n",
        "                            title_line = lines[k].strip()\n",
        "                            break\n",
        "                    break\n",
        "\n",
        "            # If no title found but there are headers (h1, h2, etc.), use the last one\n",
        "            if not title_line:\n",
        "                for line in lines:\n",
        "                    if line.strip().startswith('#'):\n",
        "                        title_line = line.strip()\n",
        "\n",
        "            # Find the header row and separator row\n",
        "            header_row = None\n",
        "            separator_row = None\n",
        "\n",
        "            for j in range(len(lines)):\n",
        "                if \"|\" in lines[j] and header_row is None:\n",
        "                    # First row with | is likely the header\n",
        "                    header_row = lines[j]\n",
        "\n",
        "                    # Next row with | and - is likely the separator\n",
        "                    if j+1 < len(lines) and \"|\" in lines[j+1] and \"-\" in lines[j+1]:\n",
        "                        separator_row = lines[j+1]\n",
        "                        break\n",
        "\n",
        "            if header_row and separator_row:\n",
        "                current_table_headers = header_row + '\\n' + separator_row\n",
        "                current_table_title = title_line\n",
        "                table_active = True\n",
        "                processed_chunks.append(chunk)\n",
        "            else:\n",
        "                # This chunk has a table-like format but no proper headers\n",
        "                processed_chunks.append(chunk)\n",
        "\n",
        "        elif \"|\" in chunk and table_active:\n",
        "            # This chunk continues a table without headers\n",
        "\n",
        "            # Create a new chunk with the title and headers prepended\n",
        "            enhanced_chunk = \"\"\n",
        "\n",
        "            # Add the title if available\n",
        "            if current_table_title:\n",
        "                enhanced_chunk += current_table_title + \"\\n\\n\"\n",
        "\n",
        "            # Add the headers\n",
        "            if current_table_headers:\n",
        "                enhanced_chunk += current_table_headers + \"\\n\"\n",
        "\n",
        "            # Add the original chunk content\n",
        "            enhanced_chunk += chunk\n",
        "\n",
        "            processed_chunks.append(enhanced_chunk)\n",
        "        else:\n",
        "            # This is not a table chunk, or it's a new section\n",
        "            table_active = False\n",
        "            current_table_headers = None\n",
        "            current_table_title = None\n",
        "            processed_chunks.append(chunk)\n",
        "\n",
        "    return processed_chunks"
      ],
      "metadata": {
        "id": "-oM9g840koe3"
      },
      "execution_count": 10,
      "outputs": []
    },
    {
      "cell_type": "code",
      "source": [
        "processed_chunks = process_chunks(chunks)\n",
        "\n",
        "print(\"PROCESSED CHUNKS:\")\n",
        "for i, chunk in enumerate(processed_chunks):\n",
        "    print(f\"\\nCHUNK {i+1}:\")\n",
        "    print(chunk)"
      ],
      "metadata": {
        "colab": {
          "base_uri": "https://localhost:8080/"
        },
        "id": "tfbHfs01konB",
        "outputId": "cfbf9a88-3aa4-48b4-fa2b-af6cb3e973e5"
      },
      "execution_count": 11,
      "outputs": [
        {
          "output_type": "stream",
          "name": "stdout",
          "text": [
            "PROCESSED CHUNKS:\n",
            "\n",
            "CHUNK 1:\n",
            "\n",
            "# Virat Kohli - Centuries\n",
            "\n",
            "Virat Kohli is one of the most successful and consistent batsmen in modern-day cricket. Below is a table summarizing his centuries in international cricket (as of March 2025).\n",
            "\n",
            "\n",
            "\n",
            "CHUNK 2:\n",
            "## List of Virat Kohli's Centuries\n",
            "\n",
            "| **No.** | **Format**    | **Opponent**    | **Match Date** | **Venue**           | **Score** |\n",
            "|---------|---------------|-----------------|----------------|---------------------|-----------|\n",
            "| 1       | ODI           | Sri Lanka       | 2013-07-21     | Colombo             | 102*      |\n",
            "| 2       | Test          | Australia       | 2014-12-17     | Adelaide            | 115       |\n",
            "| 3       | ODI           | West Indies     | 2014-10-11     | North Sound         | 100       |\n",
            "| 4       | ODI           | Sri Lanka       | 2014-11-01     | Ranchi              | 139       |\n",
            "\n",
            "\n",
            "CHUNK 3:\n",
            "## List of Virat Kohli's Centuries\n",
            "\n",
            "| **No.** | **Format**    | **Opponent**    | **Match Date** | **Venue**           | **Score** |\n",
            "|---------|---------------|-----------------|----------------|---------------------|-----------|\n",
            "| 5       | ODI           | South Africa    | 2015-10-14     | Kanpur              | 138       |\n",
            "| 6       | Test          | Sri Lanka       | 2017-07-29     | Galle               | 103       |\n",
            "| 7       | ODI           | New Zealand     | 2017-10-22     | Pune                | 121       |\n",
            "| 8       | Test          | Bangladesh      | 2017-02-09     | Hyderabad           | 204       |\n",
            "| 9       | ODI           | Sri Lanka       | 2017-08-21     | Colombo             | 103*      |\n",
            "| 10      | ODI           | Australia       | 2019-03-10     | Ranchi              | 116       |\n",
            "\n",
            "\n",
            "CHUNK 4:\n",
            "## List of Virat Kohli's Centuries\n",
            "\n",
            "| **No.** | **Format**    | **Opponent**    | **Match Date** | **Venue**           | **Score** |\n",
            "|---------|---------------|-----------------|----------------|---------------------|-----------|\n",
            "| 11      | ODI           | West Indies     | 2019-08-14     | Port of Spain       | 114       |\n",
            "| 12      | Test          | Australia       | 2018-12-06     | Adelaide            | 123       |\n",
            "| 13      | T20I          | Sri Lanka       | 2016-03-22     | Mohali              | 82*       |\n",
            "| 14      | Test          | West Indies     | 2019-08-30     | Kingston            | 114       |\n",
            "| 15      | ODI           | South Africa    | 2018-02-14     | Johannesburg        | 160       |\n",
            "\n",
            "This table highlights some of the notable centuries scored by Virat Kohli. He has been an exceptional performer across all formats, cementing his place as one of cricket's all-time greats.\n",
            "\n"
          ]
        }
      ]
    },
    {
      "cell_type": "code",
      "source": [],
      "metadata": {
        "id": "8Mp0Be4rkopp"
      },
      "execution_count": null,
      "outputs": []
    },
    {
      "cell_type": "code",
      "source": [],
      "metadata": {
        "id": "murLYq3Gkose"
      },
      "execution_count": null,
      "outputs": []
    }
  ]
}